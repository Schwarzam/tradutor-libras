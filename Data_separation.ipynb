{
 "cells": [
  {
   "cell_type": "code",
   "execution_count": 66,
   "metadata": {},
   "outputs": [],
   "source": [
    "import numpy as np\n",
    "import pandas as pd\n",
    "import os\n",
    "from os import listdir\n",
    "from os.path import isfile, join\n",
    "from skimage.io import imread"
   ]
  },
  {
   "cell_type": "code",
   "execution_count": 67,
   "metadata": {},
   "outputs": [],
   "source": [
    "img_rows = 200 ## Comprimento imagem\n",
    "img_cols = 200 ## Largura \n",
    "channels = 3 ## 3 porque eh colorida"
   ]
  },
  {
   "cell_type": "code",
   "execution_count": 68,
   "metadata": {},
   "outputs": [],
   "source": [
    "def ler_imagens(file_paths, img_rows, img_cols, channels):\n",
    "  images = []\n",
    "  for file_path in file_paths:\n",
    "    images.append(imread(file_path))\n",
    "  images = np.asarray(images, dtype=np.float32)\n",
    "  images = images / 255.0 #np.max(images) # normalizar\n",
    "  \n",
    "  images = images.reshape(images.shape[0], img_rows, img_cols, channels) # reshape para input no keras\n",
    "\n",
    "  return images"
   ]
  },
  {
   "cell_type": "code",
   "execution_count": 69,
   "metadata": {
    "scrolled": true
   },
   "outputs": [],
   "source": [
    "label = []\n",
    "file_paths = []\n",
    "\n",
    "#Pegar pastas dentro de ./camera\n",
    "for folder in os.listdir('./camera'):\n",
    "    if os.path.isdir('./camera/' + folder):\n",
    "        \n",
    "        ## Pegar todos arquivos da pasta\n",
    "        for root, dirs, files in os.walk(os.path.abspath(\"./camera/\" + folder)):\n",
    "            for file in files:\n",
    "                file_paths.append(os.path.join(root, file))\n",
    "\n",
    "        for file in onlyfiles:\n",
    "            label.append(str(folder))"
   ]
  },
  {
   "cell_type": "code",
   "execution_count": 70,
   "metadata": {},
   "outputs": [],
   "source": [
    "array = ler_imagens(file_paths, img_rows, img_cols, channels)"
   ]
  },
  {
   "cell_type": "code",
   "execution_count": 72,
   "metadata": {},
   "outputs": [
    {
     "data": {
      "text/plain": [
       "(1536, 200, 200, 3)"
      ]
     },
     "execution_count": 72,
     "metadata": {},
     "output_type": "execute_result"
    }
   ],
   "source": [
    "array.shape"
   ]
  },
  {
   "cell_type": "code",
   "execution_count": null,
   "metadata": {},
   "outputs": [],
   "source": []
  }
 ],
 "metadata": {
  "kernelspec": {
   "display_name": "Python 3",
   "language": "python",
   "name": "python3"
  },
  "language_info": {
   "codemirror_mode": {
    "name": "ipython",
    "version": 3
   },
   "file_extension": ".py",
   "mimetype": "text/x-python",
   "name": "python",
   "nbconvert_exporter": "python",
   "pygments_lexer": "ipython3",
   "version": "3.8.5"
  }
 },
 "nbformat": 4,
 "nbformat_minor": 4
}
